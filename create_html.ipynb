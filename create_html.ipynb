{
 "cells": [
  {
   "cell_type": "markdown",
   "metadata": {},
   "source": [
    "Notebook to create new html pages"
   ]
  },
  {
   "cell_type": "code",
   "execution_count": 14,
   "metadata": {},
   "outputs": [],
   "source": [
    "from pathlib import Path\n",
    "from jinja2 import Environment, FileSystemLoader\n",
    "from datetime import datetime\n",
    "import json"
   ]
  },
  {
   "cell_type": "code",
   "execution_count": 15,
   "metadata": {},
   "outputs": [],
   "source": [
    "TEMPLATE_PATH = Path(\"templates\")\n",
    "HOSTING_PATH = Path(\"all_events\")\n",
    "environment = Environment(\n",
    "    loader=FileSystemLoader(TEMPLATE_PATH),\n",
    "    extensions=[\"jinja2.ext.loopcontrols\", \"jinja2.ext.do\"],\n",
    ")"
   ]
  },
  {
   "cell_type": "code",
   "execution_count": 16,
   "metadata": {},
   "outputs": [
    {
     "data": {
      "text/plain": [
       "{'title': 'Tardis-Connector',\n",
       " 'start_date': '2025/03/17',\n",
       " 'end_date': '2025/03/21',\n",
       " 'desc': ['The TARDIS Connector Workshop 2025 is a collaborative event dedicated to advancing our understanding of stripped-envelope supernovae by leveraging the expertise and tools of the open science astrophysics community. This workshop will bring together specialists in atomic physics, stellar evolution, hydrodynamics, and radiative transport to develop workflows that connect stellar evolution models to synthetic observables.'],\n",
       " 'location': 'Center for Computational Astrophysics, Flatiron Institute, NewYork City, USA',\n",
       " 'extra_info': {'title': 'What are we trying to achieve?',\n",
       "  'desc': ['This workshop offers a unique opportunity for collaborative problem-solving rather than traditional presentations. Developers and contributors across different software teams (MESA, Flash-X, STELLA, and TARDIS) will work together to tackle the interfaces between the codes. Our aim is to produce a comprehensive model framework and reproducible recipes to address the physics needed for stripped-envelope supernovae simulation.']},\n",
       " 'panels': [{'title': 'MESA',\n",
       "   'url': 'https://docs.mesastar.org/en/24.08.1/',\n",
       "   'intro': 'MESA is a powerful and versatile open-source software suite built to allow users to run experiments in stellar evolution. Stellar evolution calculations (i.e., stellar evolution tracks and detailed information about the evolution of internal and global properties) are a basic tool that enable a broad range of research in astrophysics. Areas that critically depend on high-fidelity and modern stellar evolution include asteroseismology, nuclear astrophysics, stellar populations, chemical evolution and population synthesis, astrobiology, binary stars, variable stars, supernovae, novae, compact objects, tidal disruption events, stellar hydrodynamics, and stellar activity.',\n",
       "   'logo': 'assets/images/mesa.png'},\n",
       "  {'title': 'FLASH-X',\n",
       "   'url': 'https://flash-x.org/',\n",
       "   'intro': 'Flash-X, is a highly composable multiphysics software system that can be used to simulate physical phenomena in several scientific domains. It is derived from FLASH, which has been a community code for several communities since late 1990s and early 2000s. The Flash-X architecture has been redesigned to be compatible with increasingly heterogeneous hardware platforms. A part of the redesign is a utilizing a newly designed performance portability layer that is language agnostic. Flash-X is a recipient of 2022 R&D 100 award, and is released under the open source Apache 2.0 license.',\n",
       "   'logo': 'assets/images/flash-x.png'},\n",
       "  {'title': 'STELLA', 'url': '', 'intro': '', 'logo': ''},\n",
       "  {'title': 'TARDIS',\n",
       "   'url': 'https://tardis-sn.github.io/',\n",
       "   'intro': 'TARDIS is an open-source Monte Carlo radiative-transfer spectral synthesis code for 1D models of supernova ejecta. It is designed for rapid spectral modelling of supernovae.',\n",
       "   'logo': 'assets/images/tardis-logo-2.svg'}]}"
      ]
     },
     "execution_count": 16,
     "metadata": {},
     "output_type": "execute_result"
    }
   ],
   "source": [
    "with open('event_details.json', 'r') as f:\n",
    "    details = json.load(f)\n",
    "details"
   ]
  },
  {
   "cell_type": "code",
   "execution_count": 17,
   "metadata": {},
   "outputs": [],
   "source": [
    "# YYYY/MM/DD format\n",
    "start_date = details['start_date']\n",
    "end_date = details['end_date']\n",
    "start_date_datetime = datetime.strptime(start_date, \"%Y/%m/%d\")\n",
    "end_date_datetime = datetime.strptime(end_date, \"%Y/%m/%d\")\n",
    "event_year = end_date_datetime.year\n",
    "html_page_name = f\"{event_year}.html\""
   ]
  },
  {
   "cell_type": "code",
   "execution_count": 18,
   "metadata": {},
   "outputs": [],
   "source": [
    "page_template = environment.get_template(\"landingpage.html\")\n",
    "template_level = html_page_name.count(\"/\")\n",
    "page_html_path = html_page_name\n",
    "page_content = page_template.render(\n",
    "    TEMPLATE_LEVEL=template_level,\n",
    "    start_date=start_date_datetime,\n",
    "    end_date=end_date_datetime,\n",
    "    event_year=event_year,\n",
    "    details=details\n",
    ")\n",
    "with open(page_html_path, mode=\"w\", encoding=\"utf-8\") as page:\n",
    "    page.write(page_content)"
   ]
  },
  {
   "cell_type": "code",
   "execution_count": 19,
   "metadata": {},
   "outputs": [],
   "source": [
    "page_template = environment.get_template(\"index_template.html\")\n",
    "template_level = html_page_name.count(\"/\")\n",
    "index_html_path = \"index.html\"\n",
    "index_page_content = page_template.render(\n",
    "    TEMPLATE_LEVEL=template_level,\n",
    "    current_year=event_year\n",
    ")\n",
    "with open(index_html_path, mode=\"w\", encoding=\"utf-8\") as index_page:\n",
    "    index_page.write(index_page_content)"
   ]
  }
 ],
 "metadata": {
  "kernelspec": {
   "display_name": "tardis",
   "language": "python",
   "name": "python3"
  },
  "language_info": {
   "codemirror_mode": {
    "name": "ipython",
    "version": 3
   },
   "file_extension": ".py",
   "mimetype": "text/x-python",
   "name": "python",
   "nbconvert_exporter": "python",
   "pygments_lexer": "ipython3",
   "version": "3.12.4"
  }
 },
 "nbformat": 4,
 "nbformat_minor": 2
}
